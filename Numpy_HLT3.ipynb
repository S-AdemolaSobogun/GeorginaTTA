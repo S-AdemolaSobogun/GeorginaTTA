{
 "cells": [
  {
   "cell_type": "code",
   "execution_count": 2,
   "metadata": {},
   "outputs": [],
   "source": [
    "import numpy as np"
   ]
  },
  {
   "cell_type": "code",
   "execution_count": 7,
   "metadata": {},
   "outputs": [
    {
     "name": "stdout",
     "output_type": "stream",
     "text": [
      "[1 2 3 4 5 6 7 8 9]\n"
     ]
    }
   ],
   "source": [
    "#1. Create a numpy array 1-9\n",
    "arr = np.array([1,2,3,4,5,6,7,8,9])\n",
    "print(arr)\n"
   ]
  },
  {
   "cell_type": "code",
   "execution_count": 10,
   "metadata": {},
   "outputs": [
    {
     "name": "stdout",
     "output_type": "stream",
     "text": [
      "[[ True  True  True]\n",
      " [ True  True  True]\n",
      " [ True  True  True]]\n"
     ]
    }
   ],
   "source": [
    "#2. Create 3x3 array of TRUES\n",
    "#  True and False are represented in Python as 1 and 0\n",
    "b = np.ones((3,3),dtype=bool)\n",
    "print(b)"
   ]
  },
  {
   "cell_type": "code",
   "execution_count": 23,
   "metadata": {},
   "outputs": [
    {
     "name": "stdout",
     "output_type": "stream",
     "text": [
      "(array([1, 3, 5, 7, 9], dtype=int64),)\n"
     ]
    }
   ],
   "source": [
    "#3. Extract all odd numbers from array 1-10\n",
    "#is the number devisiable by 2 and print odd numbers\n",
    "c = np.array([1,2,3,4,5,6,7,8,9,10])\n",
    "d = np.where(c%2 == 0) # Find the indexes where the values are even\n",
    "print(d)"
   ]
  },
  {
   "cell_type": "code",
   "execution_count": 24,
   "metadata": {},
   "outputs": [
    {
     "name": "stdout",
     "output_type": "stream",
     "text": [
      "[-1  2 -1  4 -1  6 -1  8 -1 10]\n"
     ]
    }
   ],
   "source": [
    "#4. Replace all odd numbers with -1\n",
    "e = np.array([1,2,3,4,5,6,7,8,9,10])\n",
    "f = np.where(e%2 == 1) #Find the indexes where the values are odd\n",
    "e[f] = -1 #replace with -1\n",
    "print(e)"
   ]
  },
  {
   "cell_type": "code",
   "execution_count": null,
   "metadata": {},
   "outputs": [],
   "source": [
    "#5. Convert 1D array into 2D array with 2 rows\n",
    "g=np.array([1,2,3,4,5,6,7,8])\n",
    "print(g)\n",
    "h = g.reshape(2,4)\n",
    "print(h)"
   ]
  },
  {
   "cell_type": "code",
   "execution_count": 28,
   "metadata": {},
   "outputs": [
    {
     "name": "stdout",
     "output_type": "stream",
     "text": [
      "[[1 2 3]\n",
      " [4 5 6]\n",
      " [7 8 9]]\n",
      "[[10 11 12]\n",
      " [13 14 15]\n",
      " [16 17 18]]\n",
      "[[ 84  90  96]\n",
      " [201 216 231]\n",
      " [318 342 366]]\n",
      "1944\n"
     ]
    }
   ],
   "source": [
    "#6. Create 2 arrays i and j, stack vertically and calculate totals\n",
    "i = np.arange(1,10).reshape(3,3)\n",
    "print(i)\n",
    "j = np.arange(10,19).reshape(3,3)\n",
    "print(j)\n",
    "k = np.dot(i, j) #multiplecatoin of the matrix\n",
    "print(k)\n",
    "l = np.sum (k) #total sum\n",
    "print(l)"
   ]
  },
  {
   "cell_type": "code",
   "execution_count": 30,
   "metadata": {},
   "outputs": [
    {
     "name": "stdout",
     "output_type": "stream",
     "text": [
      "[1 2 3]\n",
      "[1 2 3 1 2 3 1 2 3]\n",
      "[1. 1. 1. 2. 2. 2. 3. 3. 3. 1. 2. 3. 1. 2. 3. 1. 2. 3.]\n"
     ]
    }
   ],
   "source": [
    "#7. Create the following pattern without hardcoding. 1,1,1,2,2,2,3,3,3,1,2,3,1,2,3,1,2,3\n",
    "one = np.ones(3) #111\n",
    "two = one + one #222\n",
    "three = one * 3 #333\n",
    "\n",
    "repeat = np.arange(1,4) #123\n",
    "print(repeat)\n",
    "tile = np.tile(repeat, 3) #repeats the array number of times specified\n",
    "print(tile)\n",
    "\n",
    "final = np.concatenate((one, two, three, tile))\n",
    "print(final)"
   ]
  },
  {
   "cell_type": "code",
   "execution_count": 34,
   "metadata": {},
   "outputs": [
    {
     "name": "stdout",
     "output_type": "stream",
     "text": [
      "[1 2 3 4 5 4 5 6 7 8 9]\n",
      "[1 2 3 4 5 6 7 8 9]\n"
     ]
    }
   ],
   "source": [
    "#8. Create 2 arrays, remove repeating numbers & combine\n",
    "x = np.array([1,2,3,4,5])\n",
    "y = np.array([4,5,6,7,8,9])\n",
    "x = np.concatenate((x, y))\n",
    "print(x)\n",
    "x = np.unique (x) \n",
    "print(x)\n",
    "\n"
   ]
  },
  {
   "cell_type": "code",
   "execution_count": 35,
   "metadata": {},
   "outputs": [
    {
     "name": "stdout",
     "output_type": "stream",
     "text": [
      "[3 4 5 4 5 6]\n",
      "27\n"
     ]
    }
   ],
   "source": [
    "#9. Sum values of 3 to 7 together\n",
    "a = np.array([1,2,3,4,5])\n",
    "b = np.array([4,5,6,7,8,9])\n",
    "c = np.concatenate((a, b))\n",
    "d = c[(3 <= c) & (c < 7)]\n",
    "print(d)\n",
    "print(sum(d))"
   ]
  }
 ],
 "metadata": {
  "interpreter": {
   "hash": "ac59ebe37160ed0dfa835113d9b8498d9f09ceb179beaac4002f036b9467c963"
  },
  "kernelspec": {
   "display_name": "Python 3.9.5 64-bit",
   "language": "python",
   "name": "python3"
  },
  "language_info": {
   "codemirror_mode": {
    "name": "ipython",
    "version": 3
   },
   "file_extension": ".py",
   "mimetype": "text/x-python",
   "name": "python",
   "nbconvert_exporter": "python",
   "pygments_lexer": "ipython3",
   "version": "3.9.5"
  },
  "orig_nbformat": 4
 },
 "nbformat": 4,
 "nbformat_minor": 2
}
